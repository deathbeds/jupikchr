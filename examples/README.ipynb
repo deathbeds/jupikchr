{
 "cells": [
  {
   "cell_type": "markdown",
   "id": "3ed0e70c-46ed-46d6-bef2-d3f5efddcfcd",
   "metadata": {
    "@deathbeds/jupyterlab-fonts": {
     "styles": {
      "": {
       "body[data-jp-deck-mode='presenting'] &": {
        "opacity": "100%",
        "zoom": "173%"
       }
      }
     }
    },
    "slideshow": {
     "slide_type": "slide"
    },
    "tags": []
   },
   "source": [
    "# Pikchr in Notebooks"
   ]
  },
  {
   "cell_type": "markdown",
   "id": "758efa70-77bc-4ee0-b578-c4b4a280e00d",
   "metadata": {
    "slideshow": {
     "slide_type": "fragment"
    },
    "tags": []
   },
   "source": [
    "> Visit the:\n",
    "> - docs: https://jupikchr.rtfd.io\n",
    "> - repo: https://github.com/deathbeds/jupikchr"
   ]
  },
  {
   "cell_type": "markdown",
   "id": "c112eede-6d63-4ebf-b23c-804c317a2733",
   "metadata": {
    "@deathbeds/jupyterlab-fonts": {
     "styles": {
      "": {
       "body[data-jp-deck-mode='presenting'] &": {
        "height": "16.19502314814815%",
        "left": "4.166666666666666%",
        "position": "fixed",
        "top": "38.75434027777778%",
        "width": "34.583333333333336%"
       }
      }
     }
    },
    "slideshow": {
     "slide_type": "slide"
    },
    "tags": []
   },
   "source": [
    "## Markdown\n",
    "\n",
    "Use in _fenced code blocks_ with the `pikchr` language."
   ]
  },
  {
   "cell_type": "markdown",
   "id": "03f0d0b0-5169-48ba-8113-f00e4ecf3860",
   "metadata": {
    "@deathbeds/jupyterlab-fonts": {
     "styles": {
      "": {
       "body[data-jp-deck-mode='presenting'] &": {
        "height": "37.56220965915256%",
        "left": "43.12500055631002%",
        "position": "fixed",
        "top": "34.50159200032552%",
        "width": "49.687499761581414%",
        "zoom": "255%"
       }
      }
     }
    },
    "slideshow": {
     "slide_type": "fragment"
    },
    "tags": []
   },
   "source": [
    "```pikchr\n",
    "arrow right 200% \"Markdown\" \"Source\"\n",
    "box rad 10px \"Markdown\" \"Formatter\" \"(markdown.c)\" fit\n",
    "arrow right 200% \"HTML+SVG\" \"Output\"\n",
    "arrow <-> down 70% from last box.s\n",
    "box same \"Pikchr\" \"Formatter\" \"(pikchr.c)\" fit\n",
    "```"
   ]
  },
  {
   "cell_type": "markdown",
   "id": "cc208b33-a2fc-4ccf-9aaf-87cc37071efb",
   "metadata": {
    "@deathbeds/jupyterlab-fonts": {
     "styles": {
      "": {
       "body[data-jp-deck-mode='presenting'] &": {
        "height": "24.5275%",
        "left": "2.03125%",
        "position": "fixed",
        "top": "12.055%",
        "width": "45.46875%"
       }
      }
     }
    },
    "slideshow": {
     "slide_type": "slide"
    },
    "tags": []
   },
   "source": [
    "# Rich Display\n",
    "\n",
    "MIME type is `text/x-pikchr`. You can display them directly, and even get selectable text with the `svg` tag."
   ]
  },
  {
   "cell_type": "code",
   "execution_count": null,
   "id": "55a4ec10-7d7d-4fdd-887c-09cd230eac99",
   "metadata": {
    "@deathbeds/jupyterlab-fonts": {
     "styles": {
      "": {
       "body[data-jp-deck-mode='presenting'] &": {
        "height": "82.82118055555556%",
        "left": "48.020833333333336%",
        "position": "fixed",
        "top": "11.311487268518519%",
        "width": "48.645833333333336%"
       }
      }
     }
    },
    "slideshow": {
     "slide_type": "fragment"
    },
    "tags": []
   },
   "outputs": [],
   "source": [
    "from IPython.display import display\n",
    "MIME_TYPE = \"text/x-pikchr\"\n",
    "display(\n",
    "    {MIME_TYPE: \"\"\"\n",
    "arrow right 200% \"Markdown\" \"Source\"\n",
    "box rad 10px \"Markdown\" \"Formatter\" \"(markdown.c)\" fit\n",
    "arrow right 200% \"HTML+SVG\" \"Output\"\n",
    "arrow <-> down 70% from last box.s\n",
    "box same \"Pikchr\" \"Formatter\" \"(pikchr.c)\" fit\n",
    "    \"\"\"}, \n",
    "    metadata={MIME_TYPE: {\"tag\": \"svg\", \"cssClass\": \"foo\"}}, \n",
    "    raw=True\n",
    ")"
   ]
  },
  {
   "cell_type": "markdown",
   "id": "ee0d74f3-da5f-4085-bbc4-5b832bf032a1",
   "metadata": {
    "@deathbeds/jupyterlab-fonts": {
     "styles": {
      "": {
       "body[data-jp-deck-mode='presenting'] &": {
        "height": "38.54666748046875%",
        "left": "2.1875%",
        "position": "fixed",
        "top": "48.394999999999996%",
        "width": "45.15625%"
       }
      }
     }
    },
    "slideshow": {
     "slide_type": "fragment"
    },
    "tags": []
   },
   "source": [
    "### Portable Output\n",
    "\n",
    "After rendering in-browser, the resulting HTML is also injected back into the notebook, which allows `nbconvert`, etc. to show the output directly."
   ]
  },
  {
   "cell_type": "markdown",
   "id": "128ad419-9e09-4ad2-983a-55d9b6e54848",
   "metadata": {
    "@deathbeds/jupyterlab-fonts": {
     "styles": {
      "": {
       "body[data-jp-deck-mode='presenting'] &": {
        "height": "0%",
        "left": "2.734375%",
        "position": "fixed",
        "top": "91.146669921875%",
        "width": "95%"
       }
      }
     }
    }
   },
   "source": [
    " "
   ]
  },
  {
   "cell_type": "markdown",
   "id": "3d10c8d8-5207-467c-87b1-32f3dc5b2a83",
   "metadata": {
    "slideshow": {
     "slide_type": "slide"
    },
    "tags": []
   },
   "source": [
    "# Jupyter Widget\n",
    "\n",
    "The _Jupyter Widget_ doesn't do so much, as there isn't a lot of metadata (e.g. for clicking, selecting) in the final SVG."
   ]
  },
  {
   "cell_type": "markdown",
   "id": "359ef9b1-536b-4409-8ab5-6ec1164fbeed",
   "metadata": {
    "slideshow": {
     "slide_type": "subslide"
    },
    "tags": []
   },
   "source": [
    "## Inevitable Widget Setup Page"
   ]
  },
  {
   "cell_type": "code",
   "execution_count": null,
   "id": "092cb967-693e-4410-ae5e-32d5647d1973",
   "metadata": {
    "slideshow": {
     "slide_type": null
    },
    "tags": []
   },
   "outputs": [],
   "source": [
    "import sys\n",
    "if \"pyodide\" in sys.modules:\n",
    "    %pip install ipywidgets\n",
    "    %pip install --no-deps jupikchr"
   ]
  },
  {
   "cell_type": "code",
   "execution_count": null,
   "id": "c279e9f1-b406-429c-b5f9-e23ba38394ab",
   "metadata": {},
   "outputs": [],
   "source": [
    "import ipywidgets as W, traitlets as T\n",
    "from jupikchr.widget import Pikchr"
   ]
  },
  {
   "cell_type": "code",
   "execution_count": null,
   "id": "94f32d9f-fa60-428a-8947-f6d01a19c6a2",
   "metadata": {
    "tags": []
   },
   "outputs": [],
   "source": [
    "p = Pikchr(source=\"\"\"arrow; box \"Hello\" \"World!\" fit; arrow\"\"\")\n",
    "min_height = dict(layout=dict(min_height=\"1.5em\"))\n",
    "dark_mode = W.SelectionSlider(options=[\"auto\", \"dark\", \"light\"], description=\"dark mode\", **min_height)\n",
    "tag = W.SelectionSlider(options=[\"img\", \"svg\"], description=\"tag\", **min_height)\n",
    "css_class = W.Text(description=\"css class\")\n",
    "text = W.Textarea(layout=dict(width=\"95%\", height=\"100%\"))\n",
    "T.dlink((css_class, \"value\"), (p, \"css_class\"))\n",
    "T.dlink((dark_mode, \"value\"), (p, \"dark_mode\"), lambda x: None if x == \"auto\" else x == \"dark\")\n",
    "T.dlink((tag, \"value\"), (p, \"tag\"))\n",
    "T.link((p, \"source\"), (text, \"value\"))\n",
    "playground = W.HBox([W.VBox([dark_mode, css_class, tag, text]), p], layout=dict(height=\"60vh\"));"
   ]
  },
  {
   "cell_type": "markdown",
   "id": "812f7918-3461-45a0-b52d-3e60a2e58923",
   "metadata": {
    "slideshow": {
     "slide_type": "subslide"
    },
    "tags": []
   },
   "source": [
    "## The Playground Widget"
   ]
  },
  {
   "cell_type": "code",
   "execution_count": null,
   "id": "5e824456-9194-4136-8854-0a3022188b17",
   "metadata": {
    "tags": []
   },
   "outputs": [],
   "source": [
    "playground"
   ]
  },
  {
   "cell_type": "markdown",
   "id": "81c47908-3e82-43ac-b68e-352801050076",
   "metadata": {},
   "source": [
    " "
   ]
  },
  {
   "cell_type": "markdown",
   "id": "91a60d82-a6b8-4ee4-aa9f-0b547f1794b7",
   "metadata": {},
   "source": [
    " "
   ]
  },
  {
   "cell_type": "markdown",
   "id": "38e33247-2e36-4bea-a722-b90e843968c4",
   "metadata": {
    "slideshow": {
     "slide_type": "slide"
    },
    "tags": []
   },
   "source": [
    "# Thanks!"
   ]
  },
  {
   "cell_type": "markdown",
   "id": "328b4072-e161-4d15-8a1b-1f1bed67b147",
   "metadata": {
    "slideshow": {
     "slide_type": "fragment"
    },
    "tags": []
   },
   "source": [
    "> Visit the:\n",
    "> - docs: https://jupikchr.rtfd.io\n",
    "> - repo: https://github.com/deathbeds/jupikchr"
   ]
  }
 ],
 "metadata": {
  "kernelspec": {
   "display_name": "Python 3 (ipykernel)",
   "language": "python",
   "name": "python3"
  },
  "language_info": {
   "codemirror_mode": {
    "name": "ipython",
    "version": 3
   },
   "file_extension": ".py",
   "mimetype": "text/x-python",
   "name": "python",
   "nbconvert_exporter": "python",
   "pygments_lexer": "ipython3",
   "version": "3.11.0"
  }
 },
 "nbformat": 4,
 "nbformat_minor": 5
}
